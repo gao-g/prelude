{
 "cells": [
  {
   "cell_type": "markdown",
   "metadata": {},
   "source": [
    "# Summarization"
   ]
  },
  {
   "cell_type": "markdown",
   "metadata": {},
   "source": [
    "## Load logs"
   ]
  },
  {
   "cell_type": "code",
   "execution_count": null,
   "metadata": {},
   "outputs": [],
   "source": [
    "import sys\n",
    "sys.path.append('..')\n",
    "\n",
    "from pathlib import Path\n",
    "from src.utils.logs import Logs\n",
    "import pandas as pd\n",
    "\n",
    "task = 'summarization'\n",
    "folder = Path(task)\n",
    "seeds = list(range(3))\n",
    "\n",
    "paths = {\n",
    "    'oracle-preference': [folder / f'gpt-4.gpt-4.oracle-preference..{task}.All.L-distance.5.{seed}.ndjson' for seed in seeds],\n",
    "    'no-learning': [folder / f'gpt-4.gpt-4.no-learning..{task}.All.L-distance.5.{seed}.ndjson' for seed in seeds],\n",
    "    'explore-exploit.5': [folder / f'gpt-4.gpt-4.explore-exploit.num_ex_to_explore-5.{task}.All.L-distance.5.{seed}.ndjson' for seed in seeds],\n",
    "    'continual.5': [folder / f'gpt-4.gpt-4.continual.icl_count-5.{task}.All.L-distance.5.{seed}.ndjson' for seed in seeds],\n",
    "    'icl-edit.5.bert': [folder / f'gpt-4.gpt-4.icl-edit.encoder_type-bert.icl_count-5.{task}.All.L-distance.5.{seed}.ndjson' for seed in seeds],\n",
    "    'icl-edit.5.mpnet': [folder / f'gpt-4.gpt-4.icl-edit.encoder_type-mpnet.icl_count-5.{task}.All.L-distance.5.{seed}.ndjson' for seed in seeds],\n",
    "}\n",
    "\n",
    "summarization_logs = Logs(pd.concat(\n",
    "    [Logs.load(path).assign(agent=agent, seed=seed) for agent, seeds_files in paths.items() for seed, path in enumerate(seeds_files)]))\n",
    "\n",
    "summarization_logs.head()\n"
   ]
  },
  {
   "cell_type": "markdown",
   "metadata": {},
   "source": [
    "## Aggregate"
   ]
  },
  {
   "cell_type": "code",
   "execution_count": null,
   "metadata": {},
   "outputs": [],
   "source": [
    "summarization_logs.groupby(['agent', 'seed'])[['cost']].mean().reset_index().groupby('agent')[['cost']].agg(['mean', 'std'])"
   ]
  },
  {
   "cell_type": "markdown",
   "metadata": {},
   "source": [
    "# Email writing"
   ]
  },
  {
   "cell_type": "markdown",
   "metadata": {},
   "source": [
    "## Load logs"
   ]
  },
  {
   "cell_type": "code",
   "execution_count": null,
   "metadata": {},
   "outputs": [],
   "source": [
    "import sys\n",
    "sys.path.append('..')\n",
    "\n",
    "from pathlib import Path\n",
    "from src.utils.logs import Logs\n",
    "import pandas as pd\n",
    "\n",
    "task = 'email'\n",
    "folder = Path(task)\n",
    "seeds = list(range(3))\n",
    "\n",
    "paths = {\n",
    "    'oracle-preference': [folder / f'gpt-4.gpt-4.oracle-preference..{task}.All.L-distance.5.{seed}.ndjson' for seed in seeds],\n",
    "    'no-learning': [folder / f'gpt-4.gpt-4.no-learning..{task}.All.L-distance.5.{seed}.ndjson' for seed in seeds],\n",
    "    'explore-exploit.5': [folder / f'gpt-4.gpt-4.explore-exploit.num_ex_to_explore-5.{task}.All.L-distance.5.{seed}.ndjson' for seed in seeds],\n",
    "    'continual.5': [folder / f'gpt-4.gpt-4.continual.icl_count-5.{task}.All.L-distance.5.{seed}.ndjson' for seed in seeds],\n",
    "    'icl-edit.5.bert': [folder / f'gpt-4.gpt-4.icl-edit.encoder_type-bert.icl_count-5.{task}.All.L-distance.5.{seed}.ndjson' for seed in seeds],\n",
    "    'icl-edit.5.mpnet': [folder / f'gpt-4.gpt-4.icl-edit.encoder_type-mpnet.icl_count-5.{task}.All.L-distance.5.{seed}.ndjson' for seed in seeds],\n",
    "}\n",
    "\n",
    "email_logs = Logs(pd.concat(\n",
    "    [Logs.load(path).assign(agent=agent, seed=seed) for agent, seeds_files in paths.items() for seed, path in enumerate(seeds_files)]))\n",
    "\n",
    "email_logs.head()\n"
   ]
  },
  {
   "cell_type": "markdown",
   "metadata": {},
   "source": [
    "## Aggregate"
   ]
  },
  {
   "cell_type": "code",
   "execution_count": null,
   "metadata": {},
   "outputs": [],
   "source": [
    "email_logs.groupby(['agent', 'seed'])[['cost']].mean().reset_index().groupby('agent')[['cost']].agg(['mean', 'std'])"
   ]
  }
 ],
 "metadata": {
  "kernelspec": {
   "display_name": "Python 3",
   "language": "python",
   "name": "python3"
  },
  "language_info": {
   "codemirror_mode": {
    "name": "ipython",
    "version": 3
   },
   "file_extension": ".py",
   "mimetype": "text/x-python",
   "name": "python",
   "nbconvert_exporter": "python",
   "pygments_lexer": "ipython3",
   "version": "3.10.6"
  }
 },
 "nbformat": 4,
 "nbformat_minor": 2
}
