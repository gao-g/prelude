{
 "cells": [
  {
   "cell_type": "markdown",
   "metadata": {},
   "source": [
    "# Define agent"
   ]
  },
  {
   "cell_type": "code",
   "execution_count": 22,
   "metadata": {},
   "outputs": [],
   "source": [
    "import sys\n",
    "sys.path.append('..')\n",
    "\n",
    "from src.agent.abstract_agent import Agent\n",
    "from src.language_models.llm import LLMOutput\n",
    "from src.correction import Correction\n",
    "from typing import Dict\n",
    "\n",
    "# Demo agent that is just returning input as output and doing no learning\n",
    "class TrivialAgent(Agent):\n",
    "    def __init__(self, agent_config, task, workspace):\n",
    "        super().__init__(agent_config, task, workspace)\n",
    "\n",
    "    def complete(self, text) -> LLMOutput:\n",
    "        return LLMOutput(text)\n",
    "\n",
    "    def learn(self, message, correction: Correction) -> Dict:\n",
    "        return self.metrics(message, correction)"
   ]
  },
  {
   "cell_type": "markdown",
   "metadata": {},
   "source": [
    "# Set AzureOpenAI endpoint and API key"
   ]
  },
  {
   "cell_type": "code",
   "execution_count": 23,
   "metadata": {},
   "outputs": [],
   "source": [
    "import os\n",
    "os.environ['GCR_GPT_URL'] = ''\n",
    "os.environ['GCR_GPT_KEY'] = ''"
   ]
  },
  {
   "cell_type": "markdown",
   "metadata": {},
   "source": [
    "# Create an experiment"
   ]
  },
  {
   "cell_type": "code",
   "execution_count": null,
   "metadata": {},
   "outputs": [],
   "source": [
    "from src.configs import UserConfig, WorkspaceConfig, TaskConfig, AgentConfig\n",
    "from src.user import User\n",
    "from src.workspace.workspace import Workspace\n",
    "from src.experiment import Experiment\n",
    "\n",
    "task_config = TaskConfig('summarization', num_train_ex=5)\n",
    "user_config = UserConfig('gpt-35-turbo-instruct')\n",
    "workspace_config = WorkspaceConfig(log_folder='outputs')\n",
    "agent_config = AgentConfig(model='gpt-35-turbo-instruct', agent='TrivialAgent')\n",
    "workspace = Workspace(workspace_config, user_config, agent_config, task_config)\n",
    "user = User(user_config, task_config, workspace)\n",
    "\n",
    "experiment = Experiment(\n",
    "    user,\n",
    "    TrivialAgent(agent_config, user.task, workspace),\n",
    "    workspace)"
   ]
  },
  {
   "cell_type": "markdown",
   "metadata": {},
   "source": [
    "# Run the experiment"
   ]
  },
  {
   "cell_type": "code",
   "execution_count": null,
   "metadata": {},
   "outputs": [],
   "source": [
    "experiment.run()"
   ]
  },
  {
   "cell_type": "markdown",
   "metadata": {},
   "source": [
    "# Explore results"
   ]
  },
  {
   "cell_type": "code",
   "execution_count": 30,
   "metadata": {},
   "outputs": [
    {
     "name": "stdout",
     "output_type": "stream",
     "text": [
      "Total cost: 3250\n"
     ]
    }
   ],
   "source": [
    "print(f'Total cost: {experiment.logs.cost.sum()}')"
   ]
  }
 ],
 "metadata": {
  "kernelspec": {
   "display_name": "Python 3",
   "language": "python",
   "name": "python3"
  },
  "language_info": {
   "codemirror_mode": {
    "name": "ipython",
    "version": 3
   },
   "file_extension": ".py",
   "mimetype": "text/x-python",
   "name": "python",
   "nbconvert_exporter": "python",
   "pygments_lexer": "ipython3",
   "version": "3.10.6"
  }
 },
 "nbformat": 4,
 "nbformat_minor": 2
}
